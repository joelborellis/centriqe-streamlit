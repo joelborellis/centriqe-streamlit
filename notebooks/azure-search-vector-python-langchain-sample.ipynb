{
 "cells": [
  {
   "attachments": {},
   "cell_type": "markdown",
   "metadata": {},
   "source": [
    "# Azure Cognitive Search LangChain Vector Code Sample\n",
    "This code demonstrates how to use Azure Cognitive Search with OpenAI and the Azure Cognitive Search LangChain Vector Store\n",
    "To run the code, install the following packages. Please use the latest pre-release version `pip install azure-search-documents --pre`."
   ]
  },
  {
   "cell_type": "code",
   "execution_count": null,
   "metadata": {},
   "outputs": [],
   "source": [
    "! pip install azure-search-documents --pre \n",
    "! pip install openai\n",
    "! pip install python-dotenv\n",
    "! pip install langchain"
   ]
  },
  {
   "attachments": {},
   "cell_type": "markdown",
   "metadata": {},
   "source": [
    "## Import required libraries and environment variables"
   ]
  },
  {
   "cell_type": "code",
   "execution_count": 1,
   "metadata": {},
   "outputs": [
    {
     "data": {
      "text/plain": [
       "True"
      ]
     },
     "execution_count": 1,
     "metadata": {},
     "output_type": "execute_result"
    }
   ],
   "source": [
    "# Import required libraries  \n",
    "import openai\n",
    "import os  \n",
    "from dotenv import load_dotenv\n",
    "from langchain.embeddings.openai import OpenAIEmbeddings\n",
    "from langchain.vectorstores.azuresearch import AzureSearch\n",
    "from azure.search.documents.indexes.models import (\n",
    "    SemanticSettings,\n",
    "    SemanticConfiguration,\n",
    "    PrioritizedFields,\n",
    "    SemanticField\n",
    ")\n",
    "import pandas as pd\n",
    "\n",
    "# load environment variables from .env\n",
    "load_dotenv()\n"
   ]
  },
  {
   "attachments": {},
   "cell_type": "markdown",
   "metadata": {},
   "source": [
    "## Configure OpenAI Settings"
   ]
  },
  {
   "cell_type": "code",
   "execution_count": 2,
   "metadata": {},
   "outputs": [],
   "source": [
    "# Configure environment variables - uncomment Azure settings if using Azure OpenAI \n",
    "openai.api_type: os.getenv(\"AZURE_OPENAI_API_TYPE\")\n",
    "openai.api_key = os.getenv(\"AZURE_OPENAI_API_KEY\")  \n",
    "openai.api_base = os.getenv(\"AZURE_OPENAI_API_BASE\")  \n",
    "openai.api_version = os.getenv(\"AZURE_OPENAI_API_VERSION\")  \n",
    "completion_model: str = os.getenv(\"AZURE_OPENAI_MODEL\")\n",
    "embedding_model: str = os.getenv(\"AZURE_OPENAI_MODEL_EMBED\")"
   ]
  },
  {
   "attachments": {},
   "cell_type": "markdown",
   "metadata": {},
   "source": [
    "## Configure Vector Store Settings"
   ]
  },
  {
   "cell_type": "code",
   "execution_count": 3,
   "metadata": {},
   "outputs": [],
   "source": [
    "vector_store_address: str = os.getenv(\"AZURE_SEARCH_ENDPOINT\")  \n",
    "vector_store_key: str = os.getenv(\"AZURE_SEARCH_ADMIN_KEY\") \n",
    "index_name: str = os.getenv(\"AZURE_SEARCH_INDEX\") "
   ]
  },
  {
   "attachments": {},
   "cell_type": "markdown",
   "metadata": {},
   "source": [
    "## Create index\n",
    "Create the index in Azure Cognitive Search service:"
   ]
  },
  {
   "cell_type": "code",
   "execution_count": 7,
   "metadata": {},
   "outputs": [],
   "source": [
    "embeddings: OpenAIEmbeddings = OpenAIEmbeddings(deployment=embedding_model, model=embedding_model, chunk_size=1, openai_api_key=openai.api_key, openai_api_base=openai.api_base, openai_api_type=\"azure\" )\n",
    "\n",
    "vector_store: AzureSearch = AzureSearch(\n",
    "    azure_search_endpoint=vector_store_address,\n",
    "    azure_search_key=vector_store_key,\n",
    "    index_name=index_name,\n",
    "    embedding_function=embeddings.embed_query,\n",
    "    semantic_configuration_name='centriqe-config',\n",
    "        semantic_settings=SemanticSettings(\n",
    "            default_configuration='centriqe-config',\n",
    "            configurations=[\n",
    "                SemanticConfiguration(\n",
    "                    name='centriqe-config',\n",
    "                    prioritized_fields=PrioritizedFields(\n",
    "                        title_field=SemanticField(field_name='content'),\n",
    "                        prioritized_content_fields=[SemanticField(field_name='content')],\n",
    "                        prioritized_keywords_fields=[SemanticField(field_name='metadata')]\n",
    "                    ))\n",
    "            ])\n",
    "    )"
   ]
  },
  {
   "cell_type": "code",
   "execution_count": null,
   "metadata": {},
   "outputs": [],
   "source": [
    "# read csv into df - the catalog has following columns \n",
    "# ProductID, ProductName, ProductBrand, Gender, Price (INR), Description, PrimaryColor, ImageURL\n",
    "\n",
    "df = pd.read_csv('../data/products_catalog.csv')\n",
    "print(df)"
   ]
  },
  {
   "attachments": {},
   "cell_type": "markdown",
   "metadata": {},
   "source": [
    "## Insert text and embeddings into vector store\n",
    "Load text files into the index"
   ]
  },
  {
   "cell_type": "code",
   "execution_count": null,
   "metadata": {},
   "outputs": [],
   "source": [
    "from langchain.schema import Document\n",
    "\n",
    "docs = []\n",
    "\n",
    "for index, row in df.iterrows():\n",
    "    document = Document(\n",
    "        page_content = row['Description'].replace('â€', '').replace('Â', '').replace('©', '').replace('*', '').replace('•', '').replace('*', '').replace('“', '').replace('”', ''),\n",
    "        metadata = {\"id\": row['ProductID'], \"name\": row['ProductName'], \"brand\": row['ProductBrand'], \"gender\": row['Gender'], \"price\": row['Price (INR)'], \"color\": row['PrimaryColor'], \"image\": row['ImageURL']},\n",
    "    )\n",
    "    docs.append(document)\n",
    "vector_store.add_documents(documents=docs)"
   ]
  },
  {
   "cell_type": "code",
   "execution_count": 4,
   "metadata": {},
   "outputs": [],
   "source": [
    "from langchain.llms import OpenAI\n",
    "from langchain.retrievers.self_query.base import SelfQueryRetriever\n",
    "from langchain.chains.query_constructor.base import AttributeInfo\n",
    "\n",
    "metadata_field_info = [\n",
    "    AttributeInfo(\n",
    "        name=\"name\",\n",
    "        description=\"The name of the product\",\n",
    "        type=\"string or list[string]\",\n",
    "    ),\n",
    "    AttributeInfo(\n",
    "        name=\"brand\",\n",
    "        description=\"The brand of the product\",\n",
    "        type=\"string or list[string]\",\n",
    "    ),\n",
    "    AttributeInfo(\n",
    "        name=\"gender\",\n",
    "        description=\"The gender the product is for\",\n",
    "        type=\"string or list[string]\",\n",
    "    ),\n",
    "    AttributeInfo(\n",
    "        name=\"price\",\n",
    "        description=\"The price of the product\",\n",
    "        type=\"integer\",\n",
    "    ),\n",
    "    AttributeInfo(\n",
    "        name=\"color\",\n",
    "        description=\"The color of the product\",\n",
    "        type=\"string or list[string]\",\n",
    "    ),  \n",
    "    AttributeInfo(\n",
    "        name=\"image_url\",\n",
    "        description=\"The url of an image of the product\",\n",
    "        type=\"string\",\n",
    "    ),\n",
    "]\n",
    "document_content_description = \"Brief product description of clothing\""
   ]
  },
  {
   "cell_type": "code",
   "execution_count": 9,
   "metadata": {},
   "outputs": [],
   "source": [
    "from langchain.chat_models import AzureChatOpenAI\n",
    "\n",
    "# Setup LLM and QA chain\n",
    "llm = AzureChatOpenAI(\n",
    "    deployment_name=completion_model,\n",
    "    temperature=0,\n",
    "    openai_api_base=openai.api_base,\n",
    "    openai_api_version=openai.api_version,\n",
    ")\n",
    "\n",
    "#retriever = SelfQueryRetriever.from_llm(\n",
    "#    llm,\n",
    "#    vector_store,\n",
    "#    document_content_description,\n",
    "#    metadata_field_info,\n",
    "#    verbose=True\n",
    "#)\n",
    "\n",
    "# Define retriever k determines the number of dicuments to return\n",
    "retriever = vector_store.as_retriever(search_type=\"similarity\", search_kwargs={\"k\": 5, \"fetch_k\": 4})"
   ]
  },
  {
   "cell_type": "code",
   "execution_count": 10,
   "metadata": {},
   "outputs": [
    {
     "data": {
      "text/plain": [
       "[Document(page_content='Red solid casual shirt, has a spread collar, long sleeves, button placket, straight hem, and 1 pocket', metadata={'id': '10030167', 'name': 'Next Look Men Red Slim Fit Solid Formal Shirt', 'brand': 'Next Look', 'gender': 'Men', 'price': 549, 'color': ' Red', 'image': nan}),\n",
       " Document(page_content='Red checked casual shirt, has a spread collar, long sleeves, button placket,  curved hem, one patch pocket', metadata={'id': '10017749', 'name': 'Parx Men Red Slim Fit Checked Casual Shirt', 'brand': 'Parx', 'gender': 'Men', 'price': 752, 'color': ' Red', 'image': nan}),\n",
       " Document(page_content='Red solid T-shirt, has a polo collar, short sleeves, and 1 pocket', metadata={'id': '10035821', 'name': 'Next Look Men Red Solid Polo Collar T-shirt', 'brand': 'Next Look', 'gender': 'Men', 'price': 503, 'color': ' Red', 'image': nan}),\n",
       " Document(page_content='Red checked casual shirt, has a spread collar, long sleeves, button placket,  curved hem, one patch pocket', metadata={'id': '10017589', 'name': 'Parx Men Red Slim Fit Checked Casual Shirt', 'brand': 'Parx', 'gender': 'Men', 'price': 949, 'color': ' Red', 'image': nan}),\n",
       " Document(page_content='Design Detail:Pink and Red kanjeevaram  woven design saree and has a woven design border Blouse PieceThe model is wearing a blouse from our stylists collection, see the image for a mock-up of what the actual blouse would look likeOrigin:Kanjeevaram sarees are made in the Kanchipuram region in Tamil Nadu. The fabric bears the images of all the scriptures embossed on the walls of the temples of the Kanchipuram\\xa0village.', metadata={'id': '10029959', 'name': 'Mitera Pink & Red Silk Blend Woven Design Kanjeevaram Saree', 'brand': 'Mitera', 'gender': 'Women', 'price': 1799, 'color': ' Red', 'image': nan})]"
      ]
     },
     "execution_count": 10,
     "metadata": {},
     "output_type": "execute_result"
    }
   ],
   "source": [
    "# This example only specifies a relevant query\n",
    "retriever.get_relevant_documents(\"What are some red shirts\")"
   ]
  },
  {
   "attachments": {},
   "cell_type": "markdown",
   "metadata": {},
   "source": [
    "## Perform a vector similarity search"
   ]
  },
  {
   "cell_type": "code",
   "execution_count": null,
   "metadata": {},
   "outputs": [],
   "source": [
    "# Perform a similarity search\n",
    "docs = vector_store.similarity_search(\n",
    "    query=\"red pants\",\n",
    "    k=3,\n",
    "    search_type=\"similarity\",\n",
    ")\n",
    "results = [doc.page_content for doc in docs]\n",
    "print(\"\\n\".join(results))"
   ]
  },
  {
   "attachments": {},
   "cell_type": "markdown",
   "metadata": {},
   "source": [
    "## Perform a hybrid search"
   ]
  },
  {
   "cell_type": "code",
   "execution_count": null,
   "metadata": {},
   "outputs": [],
   "source": [
    "# Perform a hybrid search\n",
    "docs = vector_store.hybrid_search(\n",
    "    query=\"What is challenger sales model\",\n",
    "    k=3, \n",
    "    search_type=\"hybrid\"\n",
    ")\n",
    "results = [doc.page_content for doc in docs]\n",
    "print(\"\\n\".join(results))"
   ]
  },
  {
   "attachments": {},
   "cell_type": "markdown",
   "metadata": {},
   "source": [
    "## Perform a Hybrid Search with Semantic re-ranking (powered by Bing)"
   ]
  },
  {
   "cell_type": "code",
   "execution_count": null,
   "metadata": {},
   "outputs": [],
   "source": [
    "# Perform a hybrid search with semantic reranking  \n",
    "docs_and_scores = vector_store.semantic_hybrid_search_with_score(  \n",
    "    query=\"What is challenger sales model\",  \n",
    "    k=3,  \n",
    ")  \n",
    "  \n",
    "# Print the results  \n",
    "for doc, score in docs_and_scores:  \n",
    "    print(\"-\" * 80)  \n",
    "    answers = doc.metadata['answers']  \n",
    "    if answers:  \n",
    "        if answers.get('highlights'):  \n",
    "            print(f\"Semantic Answer: {answers['highlights']}\")  \n",
    "        else:  \n",
    "            print(f\"Semantic Answer: {answers['text']}\")  \n",
    "        print(f\"Semantic Answer Score: {score}\")  \n",
    "    print(\"Content:\", doc.page_content)  \n",
    "    captions = doc.metadata['captions']\n",
    "    print(f\"Score: {score}\") \n",
    "    if captions:  \n",
    "        if captions.get('highlights'):  \n",
    "            print(f\"Caption: {captions['highlights']}\")  \n",
    "        else:  \n",
    "            print(f\"Caption: {captions['text']}\")  \n",
    "    else:  \n",
    "        print(\"Caption not available\")  \n"
   ]
  }
 ],
 "metadata": {
  "kernelspec": {
   "display_name": "Python 3",
   "language": "python",
   "name": "python3"
  },
  "language_info": {
   "codemirror_mode": {
    "name": "ipython",
    "version": 3
   },
   "file_extension": ".py",
   "mimetype": "text/x-python",
   "name": "python",
   "nbconvert_exporter": "python",
   "pygments_lexer": "ipython3",
   "version": "3.10.9"
  },
  "orig_nbformat": 4
 },
 "nbformat": 4,
 "nbformat_minor": 2
}
